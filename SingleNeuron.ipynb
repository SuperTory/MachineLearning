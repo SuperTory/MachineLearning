{
 "cells": [
  {
   "cell_type": "code",
   "execution_count": 1,
   "metadata": {
    "collapsed": true,
    "pycharm": {
     "is_executing": false
    }
   },
   "outputs": [
    {
     "name": "stderr",
     "text": [
      "D:\\Program\\IDE\\Anaconda\\envs\\TF-GPU\\lib\\site-packages\\tensorflow\\python\\framework\\dtypes.py:516: FutureWarning: Passing (type, 1) or '1type' as a synonym of type is deprecated; in a future version of numpy, it will be understood as (type, (1,)) / '(1,)type'.\n  _np_qint8 = np.dtype([(\"qint8\", np.int8, 1)])\nD:\\Program\\IDE\\Anaconda\\envs\\TF-GPU\\lib\\site-packages\\tensorflow\\python\\framework\\dtypes.py:517: FutureWarning: Passing (type, 1) or '1type' as a synonym of type is deprecated; in a future version of numpy, it will be understood as (type, (1,)) / '(1,)type'.\n  _np_quint8 = np.dtype([(\"quint8\", np.uint8, 1)])\nD:\\Program\\IDE\\Anaconda\\envs\\TF-GPU\\lib\\site-packages\\tensorflow\\python\\framework\\dtypes.py:518: FutureWarning: Passing (type, 1) or '1type' as a synonym of type is deprecated; in a future version of numpy, it will be understood as (type, (1,)) / '(1,)type'.\n  _np_qint16 = np.dtype([(\"qint16\", np.int16, 1)])\nD:\\Program\\IDE\\Anaconda\\envs\\TF-GPU\\lib\\site-packages\\tensorflow\\python\\framework\\dtypes.py:519: FutureWarning: Passing (type, 1) or '1type' as a synonym of type is deprecated; in a future version of numpy, it will be understood as (type, (1,)) / '(1,)type'.\n  _np_quint16 = np.dtype([(\"quint16\", np.uint16, 1)])\nD:\\Program\\IDE\\Anaconda\\envs\\TF-GPU\\lib\\site-packages\\tensorflow\\python\\framework\\dtypes.py:520: FutureWarning: Passing (type, 1) or '1type' as a synonym of type is deprecated; in a future version of numpy, it will be understood as (type, (1,)) / '(1,)type'.\n  _np_qint32 = np.dtype([(\"qint32\", np.int32, 1)])\nD:\\Program\\IDE\\Anaconda\\envs\\TF-GPU\\lib\\site-packages\\tensorflow\\python\\framework\\dtypes.py:525: FutureWarning: Passing (type, 1) or '1type' as a synonym of type is deprecated; in a future version of numpy, it will be understood as (type, (1,)) / '(1,)type'.\n  np_resource = np.dtype([(\"resource\", np.ubyte, 1)])\n",
      "D:\\Program\\IDE\\Anaconda\\envs\\TF-GPU\\lib\\site-packages\\tensorboard\\compat\\tensorflow_stub\\dtypes.py:541: FutureWarning: Passing (type, 1) or '1type' as a synonym of type is deprecated; in a future version of numpy, it will be understood as (type, (1,)) / '(1,)type'.\n  _np_qint8 = np.dtype([(\"qint8\", np.int8, 1)])\nD:\\Program\\IDE\\Anaconda\\envs\\TF-GPU\\lib\\site-packages\\tensorboard\\compat\\tensorflow_stub\\dtypes.py:542: FutureWarning: Passing (type, 1) or '1type' as a synonym of type is deprecated; in a future version of numpy, it will be understood as (type, (1,)) / '(1,)type'.\n  _np_quint8 = np.dtype([(\"quint8\", np.uint8, 1)])\nD:\\Program\\IDE\\Anaconda\\envs\\TF-GPU\\lib\\site-packages\\tensorboard\\compat\\tensorflow_stub\\dtypes.py:543: FutureWarning: Passing (type, 1) or '1type' as a synonym of type is deprecated; in a future version of numpy, it will be understood as (type, (1,)) / '(1,)type'.\n  _np_qint16 = np.dtype([(\"qint16\", np.int16, 1)])\nD:\\Program\\IDE\\Anaconda\\envs\\TF-GPU\\lib\\site-packages\\tensorboard\\compat\\tensorflow_stub\\dtypes.py:544: FutureWarning: Passing (type, 1) or '1type' as a synonym of type is deprecated; in a future version of numpy, it will be understood as (type, (1,)) / '(1,)type'.\n  _np_quint16 = np.dtype([(\"quint16\", np.uint16, 1)])\nD:\\Program\\IDE\\Anaconda\\envs\\TF-GPU\\lib\\site-packages\\tensorboard\\compat\\tensorflow_stub\\dtypes.py:545: FutureWarning: Passing (type, 1) or '1type' as a synonym of type is deprecated; in a future version of numpy, it will be understood as (type, (1,)) / '(1,)type'.\n  _np_qint32 = np.dtype([(\"qint32\", np.int32, 1)])\nD:\\Program\\IDE\\Anaconda\\envs\\TF-GPU\\lib\\site-packages\\tensorboard\\compat\\tensorflow_stub\\dtypes.py:550: FutureWarning: Passing (type, 1) or '1type' as a synonym of type is deprecated; in a future version of numpy, it will be understood as (type, (1,)) / '(1,)type'.\n  np_resource = np.dtype([(\"resource\", np.ubyte, 1)])\n"
     ],
     "output_type": "stream"
    },
    {
     "name": "stdout",
     "text": [
      "50000\n"
     ],
     "output_type": "stream"
    },
    {
     "traceback": [
      "\u001b[1;31m---------------------------------------------------------------------------\u001b[0m",
      "\u001b[1;31mInternalError\u001b[0m                             Traceback (most recent call last)",
      "\u001b[1;32mD:\\Program\\IDE\\Anaconda\\envs\\TF-GPU\\lib\\site-packages\\tensorflow\\python\\client\\session.py\u001b[0m in \u001b[0;36m_do_call\u001b[1;34m(self, fn, *args)\u001b[0m\n\u001b[0;32m   1355\u001b[0m     \u001b[1;32mtry\u001b[0m\u001b[1;33m:\u001b[0m\u001b[1;33m\u001b[0m\u001b[1;33m\u001b[0m\u001b[0m\n\u001b[1;32m-> 1356\u001b[1;33m       \u001b[1;32mreturn\u001b[0m \u001b[0mfn\u001b[0m\u001b[1;33m(\u001b[0m\u001b[1;33m*\u001b[0m\u001b[0margs\u001b[0m\u001b[1;33m)\u001b[0m\u001b[1;33m\u001b[0m\u001b[1;33m\u001b[0m\u001b[0m\n\u001b[0m\u001b[0;32m   1357\u001b[0m     \u001b[1;32mexcept\u001b[0m \u001b[0merrors\u001b[0m\u001b[1;33m.\u001b[0m\u001b[0mOpError\u001b[0m \u001b[1;32mas\u001b[0m \u001b[0me\u001b[0m\u001b[1;33m:\u001b[0m\u001b[1;33m\u001b[0m\u001b[1;33m\u001b[0m\u001b[0m\n",
      "\u001b[1;32mD:\\Program\\IDE\\Anaconda\\envs\\TF-GPU\\lib\\site-packages\\tensorflow\\python\\client\\session.py\u001b[0m in \u001b[0;36m_run_fn\u001b[1;34m(feed_dict, fetch_list, target_list, options, run_metadata)\u001b[0m\n\u001b[0;32m   1340\u001b[0m       return self._call_tf_sessionrun(\n\u001b[1;32m-> 1341\u001b[1;33m           options, feed_dict, fetch_list, target_list, run_metadata)\n\u001b[0m\u001b[0;32m   1342\u001b[0m \u001b[1;33m\u001b[0m\u001b[0m\n",
      "\u001b[1;32mD:\\Program\\IDE\\Anaconda\\envs\\TF-GPU\\lib\\site-packages\\tensorflow\\python\\client\\session.py\u001b[0m in \u001b[0;36m_call_tf_sessionrun\u001b[1;34m(self, options, feed_dict, fetch_list, target_list, run_metadata)\u001b[0m\n\u001b[0;32m   1428\u001b[0m         \u001b[0mself\u001b[0m\u001b[1;33m.\u001b[0m\u001b[0m_session\u001b[0m\u001b[1;33m,\u001b[0m \u001b[0moptions\u001b[0m\u001b[1;33m,\u001b[0m \u001b[0mfeed_dict\u001b[0m\u001b[1;33m,\u001b[0m \u001b[0mfetch_list\u001b[0m\u001b[1;33m,\u001b[0m \u001b[0mtarget_list\u001b[0m\u001b[1;33m,\u001b[0m\u001b[1;33m\u001b[0m\u001b[1;33m\u001b[0m\u001b[0m\n\u001b[1;32m-> 1429\u001b[1;33m         run_metadata)\n\u001b[0m\u001b[0;32m   1430\u001b[0m \u001b[1;33m\u001b[0m\u001b[0m\n",
      "\u001b[1;31mInternalError\u001b[0m: 2 root error(s) found.\n  (0) Internal: Blas GEMM launch failed : a.shape=(20, 3072), b.shape=(3072, 10), m=20, n=10, k=3072\n\t [[{{node MatMul}}]]\n\t [[Mean_1/_9]]\n  (1) Internal: Blas GEMM launch failed : a.shape=(20, 3072), b.shape=(3072, 10), m=20, n=10, k=3072\n\t [[{{node MatMul}}]]\n0 successful operations.\n0 derived errors ignored.",
      "\nDuring handling of the above exception, another exception occurred:\n",
      "\u001b[1;31mInternalError\u001b[0m                             Traceback (most recent call last)",
      "\u001b[1;32m<ipython-input-1-c977c759c345>\u001b[0m in \u001b[0;36m<module>\u001b[1;34m\u001b[0m\n\u001b[0;32m    104\u001b[0m     \u001b[1;32mfor\u001b[0m \u001b[0mi\u001b[0m \u001b[1;32min\u001b[0m \u001b[0mrange\u001b[0m\u001b[1;33m(\u001b[0m\u001b[0mtrain_steps\u001b[0m\u001b[1;33m)\u001b[0m\u001b[1;33m:\u001b[0m\u001b[1;33m\u001b[0m\u001b[1;33m\u001b[0m\u001b[0m\n\u001b[0;32m    105\u001b[0m         \u001b[0mbatch_data\u001b[0m\u001b[1;33m,\u001b[0m\u001b[0mbatch_labels\u001b[0m\u001b[1;33m=\u001b[0m\u001b[0mtrain_data\u001b[0m\u001b[1;33m.\u001b[0m\u001b[0mnext_batch\u001b[0m\u001b[1;33m(\u001b[0m\u001b[0mbatch_size\u001b[0m\u001b[1;33m)\u001b[0m\u001b[1;33m\u001b[0m\u001b[1;33m\u001b[0m\u001b[0m\n\u001b[1;32m--> 106\u001b[1;33m         \u001b[0mloss_val\u001b[0m\u001b[1;33m,\u001b[0m\u001b[0macc_val\u001b[0m\u001b[1;33m,\u001b[0m\u001b[0m_\u001b[0m\u001b[1;33m=\u001b[0m\u001b[0msess\u001b[0m\u001b[1;33m.\u001b[0m\u001b[0mrun\u001b[0m\u001b[1;33m(\u001b[0m\u001b[1;33m[\u001b[0m\u001b[0mloss\u001b[0m\u001b[1;33m,\u001b[0m\u001b[0maccuracy\u001b[0m\u001b[1;33m,\u001b[0m\u001b[0mtrain_op\u001b[0m\u001b[1;33m]\u001b[0m\u001b[1;33m,\u001b[0m\u001b[0mfeed_dict\u001b[0m\u001b[1;33m=\u001b[0m\u001b[1;33m{\u001b[0m\u001b[0mx\u001b[0m\u001b[1;33m:\u001b[0m\u001b[0mbatch_data\u001b[0m\u001b[1;33m,\u001b[0m\u001b[0my\u001b[0m\u001b[1;33m:\u001b[0m\u001b[0mbatch_labels\u001b[0m\u001b[1;33m}\u001b[0m\u001b[1;33m)\u001b[0m\u001b[1;33m\u001b[0m\u001b[1;33m\u001b[0m\u001b[0m\n\u001b[0m\u001b[0;32m    107\u001b[0m         \u001b[1;32mif\u001b[0m \u001b[0mi\u001b[0m \u001b[1;33m%\u001b[0m \u001b[1;36m500\u001b[0m\u001b[1;33m==\u001b[0m\u001b[1;36m0\u001b[0m\u001b[1;33m:\u001b[0m\u001b[1;33m\u001b[0m\u001b[1;33m\u001b[0m\u001b[0m\n\u001b[0;32m    108\u001b[0m             \u001b[0mprint\u001b[0m\u001b[1;33m(\u001b[0m\u001b[1;34m\"第%d步：损失：%.5f，精确度：%.5f\"\u001b[0m\u001b[1;33m%\u001b[0m\u001b[1;33m(\u001b[0m\u001b[0mi\u001b[0m\u001b[1;33m,\u001b[0m\u001b[0mloss_val\u001b[0m\u001b[1;33m,\u001b[0m\u001b[0macc_val\u001b[0m\u001b[1;33m)\u001b[0m\u001b[1;33m)\u001b[0m\u001b[1;33m\u001b[0m\u001b[1;33m\u001b[0m\u001b[0m\n",
      "\u001b[1;32mD:\\Program\\IDE\\Anaconda\\envs\\TF-GPU\\lib\\site-packages\\tensorflow\\python\\client\\session.py\u001b[0m in \u001b[0;36mrun\u001b[1;34m(self, fetches, feed_dict, options, run_metadata)\u001b[0m\n\u001b[0;32m    948\u001b[0m     \u001b[1;32mtry\u001b[0m\u001b[1;33m:\u001b[0m\u001b[1;33m\u001b[0m\u001b[1;33m\u001b[0m\u001b[0m\n\u001b[0;32m    949\u001b[0m       result = self._run(None, fetches, feed_dict, options_ptr,\n\u001b[1;32m--> 950\u001b[1;33m                          run_metadata_ptr)\n\u001b[0m\u001b[0;32m    951\u001b[0m       \u001b[1;32mif\u001b[0m \u001b[0mrun_metadata\u001b[0m\u001b[1;33m:\u001b[0m\u001b[1;33m\u001b[0m\u001b[1;33m\u001b[0m\u001b[0m\n\u001b[0;32m    952\u001b[0m         \u001b[0mproto_data\u001b[0m \u001b[1;33m=\u001b[0m \u001b[0mtf_session\u001b[0m\u001b[1;33m.\u001b[0m\u001b[0mTF_GetBuffer\u001b[0m\u001b[1;33m(\u001b[0m\u001b[0mrun_metadata_ptr\u001b[0m\u001b[1;33m)\u001b[0m\u001b[1;33m\u001b[0m\u001b[1;33m\u001b[0m\u001b[0m\n",
      "\u001b[1;32mD:\\Program\\IDE\\Anaconda\\envs\\TF-GPU\\lib\\site-packages\\tensorflow\\python\\client\\session.py\u001b[0m in \u001b[0;36m_run\u001b[1;34m(self, handle, fetches, feed_dict, options, run_metadata)\u001b[0m\n\u001b[0;32m   1171\u001b[0m     \u001b[1;32mif\u001b[0m \u001b[0mfinal_fetches\u001b[0m \u001b[1;32mor\u001b[0m \u001b[0mfinal_targets\u001b[0m \u001b[1;32mor\u001b[0m \u001b[1;33m(\u001b[0m\u001b[0mhandle\u001b[0m \u001b[1;32mand\u001b[0m \u001b[0mfeed_dict_tensor\u001b[0m\u001b[1;33m)\u001b[0m\u001b[1;33m:\u001b[0m\u001b[1;33m\u001b[0m\u001b[1;33m\u001b[0m\u001b[0m\n\u001b[0;32m   1172\u001b[0m       results = self._do_run(handle, final_targets, final_fetches,\n\u001b[1;32m-> 1173\u001b[1;33m                              feed_dict_tensor, options, run_metadata)\n\u001b[0m\u001b[0;32m   1174\u001b[0m     \u001b[1;32melse\u001b[0m\u001b[1;33m:\u001b[0m\u001b[1;33m\u001b[0m\u001b[1;33m\u001b[0m\u001b[0m\n\u001b[0;32m   1175\u001b[0m       \u001b[0mresults\u001b[0m \u001b[1;33m=\u001b[0m \u001b[1;33m[\u001b[0m\u001b[1;33m]\u001b[0m\u001b[1;33m\u001b[0m\u001b[1;33m\u001b[0m\u001b[0m\n",
      "\u001b[1;32mD:\\Program\\IDE\\Anaconda\\envs\\TF-GPU\\lib\\site-packages\\tensorflow\\python\\client\\session.py\u001b[0m in \u001b[0;36m_do_run\u001b[1;34m(self, handle, target_list, fetch_list, feed_dict, options, run_metadata)\u001b[0m\n\u001b[0;32m   1348\u001b[0m     \u001b[1;32mif\u001b[0m \u001b[0mhandle\u001b[0m \u001b[1;32mis\u001b[0m \u001b[1;32mNone\u001b[0m\u001b[1;33m:\u001b[0m\u001b[1;33m\u001b[0m\u001b[1;33m\u001b[0m\u001b[0m\n\u001b[0;32m   1349\u001b[0m       return self._do_call(_run_fn, feeds, fetches, targets, options,\n\u001b[1;32m-> 1350\u001b[1;33m                            run_metadata)\n\u001b[0m\u001b[0;32m   1351\u001b[0m     \u001b[1;32melse\u001b[0m\u001b[1;33m:\u001b[0m\u001b[1;33m\u001b[0m\u001b[1;33m\u001b[0m\u001b[0m\n\u001b[0;32m   1352\u001b[0m       \u001b[1;32mreturn\u001b[0m \u001b[0mself\u001b[0m\u001b[1;33m.\u001b[0m\u001b[0m_do_call\u001b[0m\u001b[1;33m(\u001b[0m\u001b[0m_prun_fn\u001b[0m\u001b[1;33m,\u001b[0m \u001b[0mhandle\u001b[0m\u001b[1;33m,\u001b[0m \u001b[0mfeeds\u001b[0m\u001b[1;33m,\u001b[0m \u001b[0mfetches\u001b[0m\u001b[1;33m)\u001b[0m\u001b[1;33m\u001b[0m\u001b[1;33m\u001b[0m\u001b[0m\n",
      "\u001b[1;32mD:\\Program\\IDE\\Anaconda\\envs\\TF-GPU\\lib\\site-packages\\tensorflow\\python\\client\\session.py\u001b[0m in \u001b[0;36m_do_call\u001b[1;34m(self, fn, *args)\u001b[0m\n\u001b[0;32m   1368\u001b[0m           \u001b[1;32mpass\u001b[0m\u001b[1;33m\u001b[0m\u001b[1;33m\u001b[0m\u001b[0m\n\u001b[0;32m   1369\u001b[0m       \u001b[0mmessage\u001b[0m \u001b[1;33m=\u001b[0m \u001b[0merror_interpolation\u001b[0m\u001b[1;33m.\u001b[0m\u001b[0minterpolate\u001b[0m\u001b[1;33m(\u001b[0m\u001b[0mmessage\u001b[0m\u001b[1;33m,\u001b[0m \u001b[0mself\u001b[0m\u001b[1;33m.\u001b[0m\u001b[0m_graph\u001b[0m\u001b[1;33m)\u001b[0m\u001b[1;33m\u001b[0m\u001b[1;33m\u001b[0m\u001b[0m\n\u001b[1;32m-> 1370\u001b[1;33m       \u001b[1;32mraise\u001b[0m \u001b[0mtype\u001b[0m\u001b[1;33m(\u001b[0m\u001b[0me\u001b[0m\u001b[1;33m)\u001b[0m\u001b[1;33m(\u001b[0m\u001b[0mnode_def\u001b[0m\u001b[1;33m,\u001b[0m \u001b[0mop\u001b[0m\u001b[1;33m,\u001b[0m \u001b[0mmessage\u001b[0m\u001b[1;33m)\u001b[0m\u001b[1;33m\u001b[0m\u001b[1;33m\u001b[0m\u001b[0m\n\u001b[0m\u001b[0;32m   1371\u001b[0m \u001b[1;33m\u001b[0m\u001b[0m\n\u001b[0;32m   1372\u001b[0m   \u001b[1;32mdef\u001b[0m \u001b[0m_extend_graph\u001b[0m\u001b[1;33m(\u001b[0m\u001b[0mself\u001b[0m\u001b[1;33m)\u001b[0m\u001b[1;33m:\u001b[0m\u001b[1;33m\u001b[0m\u001b[1;33m\u001b[0m\u001b[0m\n",
      "\u001b[1;31mInternalError\u001b[0m: 2 root error(s) found.\n  (0) Internal: Blas GEMM launch failed : a.shape=(20, 3072), b.shape=(3072, 10), m=20, n=10, k=3072\n\t [[node MatMul (defined at <ipython-input-1-c977c759c345>:80) ]]\n\t [[Mean_1/_9]]\n  (1) Internal: Blas GEMM launch failed : a.shape=(20, 3072), b.shape=(3072, 10), m=20, n=10, k=3072\n\t [[node MatMul (defined at <ipython-input-1-c977c759c345>:80) ]]\n0 successful operations.\n0 derived errors ignored.\n\nErrors may have originated from an input operation.\nInput Source operations connected to node MatMul:\n w/read (defined at <ipython-input-1-c977c759c345>:77)\t\n Placeholder (defined at <ipython-input-1-c977c759c345>:73)\n\nInput Source operations connected to node MatMul:\n w/read (defined at <ipython-input-1-c977c759c345>:77)\t\n Placeholder (defined at <ipython-input-1-c977c759c345>:73)\n\nOriginal stack trace for 'MatMul':\n  File \"D:\\Program\\IDE\\Anaconda\\envs\\TF-GPU\\lib\\runpy.py\", line 193, in _run_module_as_main\n    \"__main__\", mod_spec)\n  File \"D:\\Program\\IDE\\Anaconda\\envs\\TF-GPU\\lib\\runpy.py\", line 85, in _run_code\n    exec(code, run_globals)\n  File \"D:\\Program\\IDE\\Anaconda\\envs\\TF-GPU\\lib\\site-packages\\ipykernel_launcher.py\", line 16, in <module>\n    app.launch_new_instance()\n  File \"D:\\Program\\IDE\\Anaconda\\envs\\TF-GPU\\lib\\site-packages\\traitlets\\config\\application.py\", line 658, in launch_instance\n    app.start()\n  File \"D:\\Program\\IDE\\Anaconda\\envs\\TF-GPU\\lib\\site-packages\\ipykernel\\kernelapp.py\", line 563, in start\n    self.io_loop.start()\n  File \"D:\\Program\\IDE\\Anaconda\\envs\\TF-GPU\\lib\\site-packages\\tornado\\platform\\asyncio.py\", line 148, in start\n    self.asyncio_loop.run_forever()\n  File \"D:\\Program\\IDE\\Anaconda\\envs\\TF-GPU\\lib\\asyncio\\base_events.py\", line 534, in run_forever\n    self._run_once()\n  File \"D:\\Program\\IDE\\Anaconda\\envs\\TF-GPU\\lib\\asyncio\\base_events.py\", line 1771, in _run_once\n    handle._run()\n  File \"D:\\Program\\IDE\\Anaconda\\envs\\TF-GPU\\lib\\asyncio\\events.py\", line 88, in _run\n    self._context.run(self._callback, *self._args)\n  File \"D:\\Program\\IDE\\Anaconda\\envs\\TF-GPU\\lib\\site-packages\\tornado\\ioloop.py\", line 690, in <lambda>\n    lambda f: self._run_callback(functools.partial(callback, future))\n  File \"D:\\Program\\IDE\\Anaconda\\envs\\TF-GPU\\lib\\site-packages\\tornado\\ioloop.py\", line 743, in _run_callback\n    ret = callback()\n  File \"D:\\Program\\IDE\\Anaconda\\envs\\TF-GPU\\lib\\site-packages\\tornado\\gen.py\", line 787, in inner\n    self.run()\n  File \"D:\\Program\\IDE\\Anaconda\\envs\\TF-GPU\\lib\\site-packages\\tornado\\gen.py\", line 748, in run\n    yielded = self.gen.send(value)\n  File \"D:\\Program\\IDE\\Anaconda\\envs\\TF-GPU\\lib\\site-packages\\ipykernel\\kernelbase.py\", line 365, in process_one\n    yield gen.maybe_future(dispatch(*args))\n  File \"D:\\Program\\IDE\\Anaconda\\envs\\TF-GPU\\lib\\site-packages\\tornado\\gen.py\", line 209, in wrapper\n    yielded = next(result)\n  File \"D:\\Program\\IDE\\Anaconda\\envs\\TF-GPU\\lib\\site-packages\\ipykernel\\kernelbase.py\", line 272, in dispatch_shell\n    yield gen.maybe_future(handler(stream, idents, msg))\n  File \"D:\\Program\\IDE\\Anaconda\\envs\\TF-GPU\\lib\\site-packages\\tornado\\gen.py\", line 209, in wrapper\n    yielded = next(result)\n  File \"D:\\Program\\IDE\\Anaconda\\envs\\TF-GPU\\lib\\site-packages\\ipykernel\\kernelbase.py\", line 542, in execute_request\n    user_expressions, allow_stdin,\n  File \"D:\\Program\\IDE\\Anaconda\\envs\\TF-GPU\\lib\\site-packages\\tornado\\gen.py\", line 209, in wrapper\n    yielded = next(result)\n  File \"D:\\Program\\IDE\\Anaconda\\envs\\TF-GPU\\lib\\site-packages\\ipykernel\\ipkernel.py\", line 294, in do_execute\n    res = shell.run_cell(code, store_history=store_history, silent=silent)\n  File \"D:\\Program\\IDE\\Anaconda\\envs\\TF-GPU\\lib\\site-packages\\ipykernel\\zmqshell.py\", line 536, in run_cell\n    return super(ZMQInteractiveShell, self).run_cell(*args, **kwargs)\n  File \"D:\\Program\\IDE\\Anaconda\\envs\\TF-GPU\\lib\\site-packages\\IPython\\core\\interactiveshell.py\", line 2855, in run_cell\n    raw_cell, store_history, silent, shell_futures)\n  File \"D:\\Program\\IDE\\Anaconda\\envs\\TF-GPU\\lib\\site-packages\\IPython\\core\\interactiveshell.py\", line 2881, in _run_cell\n    return runner(coro)\n  File \"D:\\Program\\IDE\\Anaconda\\envs\\TF-GPU\\lib\\site-packages\\IPython\\core\\async_helpers.py\", line 68, in _pseudo_sync_runner\n    coro.send(None)\n  File \"D:\\Program\\IDE\\Anaconda\\envs\\TF-GPU\\lib\\site-packages\\IPython\\core\\interactiveshell.py\", line 3058, in run_cell_async\n    interactivity=interactivity, compiler=compiler, result=result)\n  File \"D:\\Program\\IDE\\Anaconda\\envs\\TF-GPU\\lib\\site-packages\\IPython\\core\\interactiveshell.py\", line 3249, in run_ast_nodes\n    if (await self.run_code(code, result,  async_=asy)):\n  File \"D:\\Program\\IDE\\Anaconda\\envs\\TF-GPU\\lib\\site-packages\\IPython\\core\\interactiveshell.py\", line 3326, in run_code\n    exec(code_obj, self.user_global_ns, self.user_ns)\n  File \"<ipython-input-1-c977c759c345>\", line 80, in <module>\n    y_predict=tf.matmul(x,w)+b\n  File \"D:\\Program\\IDE\\Anaconda\\envs\\TF-GPU\\lib\\site-packages\\tensorflow\\python\\util\\dispatch.py\", line 180, in wrapper\n    return target(*args, **kwargs)\n  File \"D:\\Program\\IDE\\Anaconda\\envs\\TF-GPU\\lib\\site-packages\\tensorflow\\python\\ops\\math_ops.py\", line 2647, in matmul\n    a, b, transpose_a=transpose_a, transpose_b=transpose_b, name=name)\n  File \"D:\\Program\\IDE\\Anaconda\\envs\\TF-GPU\\lib\\site-packages\\tensorflow\\python\\ops\\gen_math_ops.py\", line 6295, in mat_mul\n    name=name)\n  File \"D:\\Program\\IDE\\Anaconda\\envs\\TF-GPU\\lib\\site-packages\\tensorflow\\python\\framework\\op_def_library.py\", line 788, in _apply_op_helper\n    op_def=op_def)\n  File \"D:\\Program\\IDE\\Anaconda\\envs\\TF-GPU\\lib\\site-packages\\tensorflow\\python\\util\\deprecation.py\", line 507, in new_func\n    return func(*args, **kwargs)\n  File \"D:\\Program\\IDE\\Anaconda\\envs\\TF-GPU\\lib\\site-packages\\tensorflow\\python\\framework\\ops.py\", line 3616, in create_op\n    op_def=op_def)\n  File \"D:\\Program\\IDE\\Anaconda\\envs\\TF-GPU\\lib\\site-packages\\tensorflow\\python\\framework\\ops.py\", line 2005, in __init__\n    self._traceback = tf_stack.extract_stack()\n"
     ],
     "ename": "InternalError",
     "evalue": "2 root error(s) found.\n  (0) Internal: Blas GEMM launch failed : a.shape=(20, 3072), b.shape=(3072, 10), m=20, n=10, k=3072\n\t [[node MatMul (defined at <ipython-input-1-c977c759c345>:80) ]]\n\t [[Mean_1/_9]]\n  (1) Internal: Blas GEMM launch failed : a.shape=(20, 3072), b.shape=(3072, 10), m=20, n=10, k=3072\n\t [[node MatMul (defined at <ipython-input-1-c977c759c345>:80) ]]\n0 successful operations.\n0 derived errors ignored.\n\nErrors may have originated from an input operation.\nInput Source operations connected to node MatMul:\n w/read (defined at <ipython-input-1-c977c759c345>:77)\t\n Placeholder (defined at <ipython-input-1-c977c759c345>:73)\n\nInput Source operations connected to node MatMul:\n w/read (defined at <ipython-input-1-c977c759c345>:77)\t\n Placeholder (defined at <ipython-input-1-c977c759c345>:73)\n\nOriginal stack trace for 'MatMul':\n  File \"D:\\Program\\IDE\\Anaconda\\envs\\TF-GPU\\lib\\runpy.py\", line 193, in _run_module_as_main\n    \"__main__\", mod_spec)\n  File \"D:\\Program\\IDE\\Anaconda\\envs\\TF-GPU\\lib\\runpy.py\", line 85, in _run_code\n    exec(code, run_globals)\n  File \"D:\\Program\\IDE\\Anaconda\\envs\\TF-GPU\\lib\\site-packages\\ipykernel_launcher.py\", line 16, in <module>\n    app.launch_new_instance()\n  File \"D:\\Program\\IDE\\Anaconda\\envs\\TF-GPU\\lib\\site-packages\\traitlets\\config\\application.py\", line 658, in launch_instance\n    app.start()\n  File \"D:\\Program\\IDE\\Anaconda\\envs\\TF-GPU\\lib\\site-packages\\ipykernel\\kernelapp.py\", line 563, in start\n    self.io_loop.start()\n  File \"D:\\Program\\IDE\\Anaconda\\envs\\TF-GPU\\lib\\site-packages\\tornado\\platform\\asyncio.py\", line 148, in start\n    self.asyncio_loop.run_forever()\n  File \"D:\\Program\\IDE\\Anaconda\\envs\\TF-GPU\\lib\\asyncio\\base_events.py\", line 534, in run_forever\n    self._run_once()\n  File \"D:\\Program\\IDE\\Anaconda\\envs\\TF-GPU\\lib\\asyncio\\base_events.py\", line 1771, in _run_once\n    handle._run()\n  File \"D:\\Program\\IDE\\Anaconda\\envs\\TF-GPU\\lib\\asyncio\\events.py\", line 88, in _run\n    self._context.run(self._callback, *self._args)\n  File \"D:\\Program\\IDE\\Anaconda\\envs\\TF-GPU\\lib\\site-packages\\tornado\\ioloop.py\", line 690, in <lambda>\n    lambda f: self._run_callback(functools.partial(callback, future))\n  File \"D:\\Program\\IDE\\Anaconda\\envs\\TF-GPU\\lib\\site-packages\\tornado\\ioloop.py\", line 743, in _run_callback\n    ret = callback()\n  File \"D:\\Program\\IDE\\Anaconda\\envs\\TF-GPU\\lib\\site-packages\\tornado\\gen.py\", line 787, in inner\n    self.run()\n  File \"D:\\Program\\IDE\\Anaconda\\envs\\TF-GPU\\lib\\site-packages\\tornado\\gen.py\", line 748, in run\n    yielded = self.gen.send(value)\n  File \"D:\\Program\\IDE\\Anaconda\\envs\\TF-GPU\\lib\\site-packages\\ipykernel\\kernelbase.py\", line 365, in process_one\n    yield gen.maybe_future(dispatch(*args))\n  File \"D:\\Program\\IDE\\Anaconda\\envs\\TF-GPU\\lib\\site-packages\\tornado\\gen.py\", line 209, in wrapper\n    yielded = next(result)\n  File \"D:\\Program\\IDE\\Anaconda\\envs\\TF-GPU\\lib\\site-packages\\ipykernel\\kernelbase.py\", line 272, in dispatch_shell\n    yield gen.maybe_future(handler(stream, idents, msg))\n  File \"D:\\Program\\IDE\\Anaconda\\envs\\TF-GPU\\lib\\site-packages\\tornado\\gen.py\", line 209, in wrapper\n    yielded = next(result)\n  File \"D:\\Program\\IDE\\Anaconda\\envs\\TF-GPU\\lib\\site-packages\\ipykernel\\kernelbase.py\", line 542, in execute_request\n    user_expressions, allow_stdin,\n  File \"D:\\Program\\IDE\\Anaconda\\envs\\TF-GPU\\lib\\site-packages\\tornado\\gen.py\", line 209, in wrapper\n    yielded = next(result)\n  File \"D:\\Program\\IDE\\Anaconda\\envs\\TF-GPU\\lib\\site-packages\\ipykernel\\ipkernel.py\", line 294, in do_execute\n    res = shell.run_cell(code, store_history=store_history, silent=silent)\n  File \"D:\\Program\\IDE\\Anaconda\\envs\\TF-GPU\\lib\\site-packages\\ipykernel\\zmqshell.py\", line 536, in run_cell\n    return super(ZMQInteractiveShell, self).run_cell(*args, **kwargs)\n  File \"D:\\Program\\IDE\\Anaconda\\envs\\TF-GPU\\lib\\site-packages\\IPython\\core\\interactiveshell.py\", line 2855, in run_cell\n    raw_cell, store_history, silent, shell_futures)\n  File \"D:\\Program\\IDE\\Anaconda\\envs\\TF-GPU\\lib\\site-packages\\IPython\\core\\interactiveshell.py\", line 2881, in _run_cell\n    return runner(coro)\n  File \"D:\\Program\\IDE\\Anaconda\\envs\\TF-GPU\\lib\\site-packages\\IPython\\core\\async_helpers.py\", line 68, in _pseudo_sync_runner\n    coro.send(None)\n  File \"D:\\Program\\IDE\\Anaconda\\envs\\TF-GPU\\lib\\site-packages\\IPython\\core\\interactiveshell.py\", line 3058, in run_cell_async\n    interactivity=interactivity, compiler=compiler, result=result)\n  File \"D:\\Program\\IDE\\Anaconda\\envs\\TF-GPU\\lib\\site-packages\\IPython\\core\\interactiveshell.py\", line 3249, in run_ast_nodes\n    if (await self.run_code(code, result,  async_=asy)):\n  File \"D:\\Program\\IDE\\Anaconda\\envs\\TF-GPU\\lib\\site-packages\\IPython\\core\\interactiveshell.py\", line 3326, in run_code\n    exec(code_obj, self.user_global_ns, self.user_ns)\n  File \"<ipython-input-1-c977c759c345>\", line 80, in <module>\n    y_predict=tf.matmul(x,w)+b\n  File \"D:\\Program\\IDE\\Anaconda\\envs\\TF-GPU\\lib\\site-packages\\tensorflow\\python\\util\\dispatch.py\", line 180, in wrapper\n    return target(*args, **kwargs)\n  File \"D:\\Program\\IDE\\Anaconda\\envs\\TF-GPU\\lib\\site-packages\\tensorflow\\python\\ops\\math_ops.py\", line 2647, in matmul\n    a, b, transpose_a=transpose_a, transpose_b=transpose_b, name=name)\n  File \"D:\\Program\\IDE\\Anaconda\\envs\\TF-GPU\\lib\\site-packages\\tensorflow\\python\\ops\\gen_math_ops.py\", line 6295, in mat_mul\n    name=name)\n  File \"D:\\Program\\IDE\\Anaconda\\envs\\TF-GPU\\lib\\site-packages\\tensorflow\\python\\framework\\op_def_library.py\", line 788, in _apply_op_helper\n    op_def=op_def)\n  File \"D:\\Program\\IDE\\Anaconda\\envs\\TF-GPU\\lib\\site-packages\\tensorflow\\python\\util\\deprecation.py\", line 507, in new_func\n    return func(*args, **kwargs)\n  File \"D:\\Program\\IDE\\Anaconda\\envs\\TF-GPU\\lib\\site-packages\\tensorflow\\python\\framework\\ops.py\", line 3616, in create_op\n    op_def=op_def)\n  File \"D:\\Program\\IDE\\Anaconda\\envs\\TF-GPU\\lib\\site-packages\\tensorflow\\python\\framework\\ops.py\", line 2005, in __init__\n    self._traceback = tf_stack.extract_stack()\n",
     "output_type": "error"
    }
   ],
   "source": [
    "import tensorflow as tf\n",
    "import os\n",
    "import pickle\n",
    "import numpy as np\n",
    "\n",
    "CIFAR_DIR='D:\\Temp\\MachineLearning\\data\\cifar-10-batches-py'\n",
    "\n",
    "class   CifarData:\n",
    "    def __init__(self,filelist,shuffle):\n",
    "        all_data=[]\n",
    "        all_labels=[]\n",
    "        #循环读取多个批次的数据集文件\n",
    "        for filename in filelist:\n",
    "            data,labels=self.load_data(filename)      \n",
    "            all_data.append(data)\n",
    "            all_labels.append(labels)\n",
    "        # 将所有data以纵向的方式合并到_data\n",
    "        self._data=np.vstack(all_data)\n",
    "        # 数据归一化处理\n",
    "        self._data=self._data/127.5 - 1\n",
    "        # 将所有label以横向方式合并到_label\n",
    "        self._labels=np.hstack(all_labels)\n",
    "        # 数据中样本个数\n",
    "        self._example_num=self._data.shape[0]\n",
    "        print(self._example_num)\n",
    "        # 定位数据集遍历的位置指针\n",
    "        self._indicator=0\n",
    "        # 根据传入的shuffle决定是否对数据进行打乱\n",
    "        self._shuffle=shuffle\n",
    "        if self._shuffle:\n",
    "            self.shuffle_data()\n",
    "                 \n",
    "    def load_data(self,filename):\n",
    "        \"\"\"读取一个批文件中的数据\"\"\"\n",
    "        with open(filename,'rb') as f:\n",
    "            data=pickle.load(f,encoding='bytes')\n",
    "            return data[b'data'],data[b'labels']\n",
    "        \n",
    "    def shuffle_data(self):\n",
    "        # 返回一个打乱的序号列表，例如将0~5 随机打乱为 [5,3,2,4,0,1]\n",
    "        shuffle_list=np.random.permutation(self._example_num)\n",
    "        # 根据随机列表重排数据和对应的标签值\n",
    "        self._data=self._data[shuffle_list]\n",
    "        self._labels=self._labels[shuffle_list]\n",
    "        \n",
    "    def next_batch(self,batch_size ):\n",
    "        '''返回当前指针self._indicator之后batch_size个数据'''\n",
    "        end_indicator=self._indicator+batch_size\n",
    "        # 如果相加结果超过了样本个数\n",
    "        if end_indicator>self._example_num:\n",
    "            # 如果可以洗牌，打乱数据并从0开始重新取数据\n",
    "            if self._shuffle:\n",
    "                self.shuffle_data()\n",
    "                self._indicator=0\n",
    "                end_indicator=batch_size\n",
    "            else:\n",
    "                raise Exception(\"没有更多数据了！\")    \n",
    "        # 返回从_indicator到end_indicator的data和labels，并将指针后移到end_indicator\n",
    "        batch_data=self._data[self._indicator:end_indicator]\n",
    "        batch_labels=self._labels[self._indicator:end_indicator]\n",
    "        self._indicator=end_indicator\n",
    "        return batch_data,batch_labels\n",
    "\n",
    "# 拼接训练数据的路径名        \n",
    "train_file=[os.path.join(CIFAR_DIR,'data_batch_%d'%i) for i in range (1,6)]\n",
    "test_file=[os.path.join(CIFAR_DIR,'test_batch')]\n",
    "\n",
    "# 创建训练数据对象\n",
    "train_data=CifarData(train_file,True)     \n",
    "        \n",
    "tf.reset_default_graph()\n",
    "\n",
    "x=tf.placeholder(tf.float32,[None,3072])\n",
    "y=tf.placeholder(tf.int64,[None])\n",
    "\n",
    "# 输入的数据是32×32×3=3072，输出10个分类\n",
    "w=tf.get_variable('w',[3072,10],initializer=tf.random_normal_initializer(0,1))\n",
    "b=tf.get_variable('b',[10],initializer=tf.constant_initializer(0.0))\n",
    "\n",
    "y_predict=tf.matmul(x,w)+b\n",
    "# 使用softmax作为激活函数\n",
    "y_s=tf.nn.softmax(y_predict)\n",
    "# 将标签转化为onehot编码\n",
    "y_onehot=tf.one_hot(y,10,dtype=tf.float32)\n",
    "\n",
    "loss=tf.reduce_mean(tf.square(y_onehot-y_s))\n",
    "\n",
    "# 将标签预测向量中最大的下标作为预测值，例如[0.1,0.8...0.01]，则预测为第二类\n",
    "predict=tf.math.argmax(y_predict,1)\n",
    "# 通过equal函数逐一比较predict，y_reshape的每一个元素\n",
    "correction=tf.equal(predict,y)\n",
    "accuracy=tf.reduce_mean(tf.cast(correction,tf.float64))\n",
    "#定义优化方法\n",
    "with tf.name_scope('train_op'):\n",
    "    train_op=tf.train.AdamOptimizer(1e-3).minimize(loss)\n",
    "    \n",
    "init=tf.global_variables_initializer()\n",
    "batch_size=20\n",
    "train_steps=10000\n",
    "test_steps=100\n",
    "\n",
    "with tf.Session() as sess:\n",
    "    sess.run(init)\n",
    "    for i in range(train_steps):\n",
    "        batch_data,batch_labels=train_data.next_batch(batch_size)\n",
    "        loss_val,acc_val,_=sess.run([loss,accuracy,train_op],feed_dict={x:batch_data,y:batch_labels})\n",
    "        if i % 500==0:\n",
    "            print(\"第%d步：损失：%.5f，精确度：%.5f\"%(i,loss_val,acc_val))\n",
    "        #每训练1000次，在test数据集上进行一次测试\n",
    "        if i%1000==0:\n",
    "            test_data=CifarData(test_file,False)   \n",
    "            all_acc=[]\n",
    "            for j in range(test_steps):\n",
    "                test_batch_data,test_batch_labels=test_data.next_batch(batch_size)\n",
    "                test_acc=sess.run([accuracy],feed_dict={x:test_batch_data,y:test_batch_labels})\n",
    "                all_acc.append(test_acc)\n",
    "            test_acc_mean=np.mean(all_acc)\n",
    "            print(\"第%d步测试集准确率%.4f\"%(i,test_acc_mean))"
   ]
  }
 ],
 "metadata": {
  "language_info": {
   "codemirror_mode": {
    "name": "ipython",
    "version": 2
   },
   "file_extension": ".py",
   "mimetype": "text/x-python",
   "name": "python",
   "nbconvert_exporter": "python",
   "pygments_lexer": "ipython2",
   "version": "2.7.6"
  },
  "kernelspec": {
   "name": "tf-gpu",
   "language": "python",
   "display_name": "TF-GPU"
  },
  "pycharm": {
   "stem_cell": {
    "cell_type": "raw",
    "source": [],
    "metadata": {
     "collapsed": false
    }
   }
  }
 },
 "nbformat": 4,
 "nbformat_minor": 0
}